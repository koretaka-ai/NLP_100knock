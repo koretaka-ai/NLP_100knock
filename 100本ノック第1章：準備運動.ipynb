{
  "nbformat": 4,
  "nbformat_minor": 0,
  "metadata": {
    "colab": {
      "name": "100本ノック第1章：準備運動.ipynb",
      "provenance": [],
      "collapsed_sections": [],
      "authorship_tag": "ABX9TyM4pDRs74RNkuO+EJQaa6I3",
      "include_colab_link": true
    },
    "kernelspec": {
      "name": "python3",
      "display_name": "Python 3"
    },
    "language_info": {
      "name": "python"
    }
  },
  "cells": [
    {
      "cell_type": "markdown",
      "metadata": {
        "id": "view-in-github",
        "colab_type": "text"
      },
      "source": [
        "<a href=\"https://colab.research.google.com/github/koretaka-ai/NLP_100knock/blob/review/100%E6%9C%AC%E3%83%8E%E3%83%83%E3%82%AF%E7%AC%AC1%E7%AB%A0%EF%BC%9A%E6%BA%96%E5%82%99%E9%81%8B%E5%8B%95.ipynb\" target=\"_parent\"><img src=\"https://colab.research.google.com/assets/colab-badge.svg\" alt=\"Open In Colab\"/></a>"
      ]
    },
    {
      "cell_type": "code",
      "metadata": {
        "colab": {
          "base_uri": "https://localhost:8080/"
        },
        "id": "jtvb5cTtJheh",
        "outputId": "c08db94b-99fc-4db8-b92f-45593e4de354"
      },
      "source": [
        "# -------------\n",
        "# 00. 文字列の逆順\n",
        "# -------------\n",
        "\n",
        "# スライスを使う\n",
        "str = 'stressed'\n",
        "\n",
        "# 基本的な使い方  開始位置 start と終了位置 stop を指定し増分 stepを指定　str[0:5:2]\n",
        "print(str[0:5:2])\n",
        "\n",
        "# startを省略すると最初から選択され、stopを省略すると最後までが選択される　両方とも省略するとすべての値が選択される\n",
        "print(str[:5] + ', ' + str[2:] + ', ' + str[:])\n",
        "\n",
        "# 増分 step を指定　stepを2とすると奇数個目の要素、もしくは偶数個目の要素のみを取得可能　増分stepをマイナスで指定することで後から逆順で要素を取得する\n",
        "print(str[::-1])\n"
      ],
      "execution_count": 1,
      "outputs": [
        {
          "output_type": "stream",
          "name": "stdout",
          "text": [
            "srs\n",
            "stres, ressed, stressed\n",
            "desserts\n"
          ]
        }
      ]
    },
    {
      "cell_type": "code",
      "metadata": {
        "colab": {
          "base_uri": "https://localhost:8080/"
        },
        "id": "NllVrMwUNEWk",
        "outputId": "460eeccd-4c2f-4d5a-f805-4869687a3bf5"
      },
      "source": [
        "# -------------\n",
        "# 01. パタトクカシー\n",
        "# -------------\n",
        "\n",
        "str = 'パタトクカシーー'\n",
        "\n",
        "# 増分 stepを2とすることで奇数目のみを取得\n",
        "print(str[::2])"
      ],
      "execution_count": null,
      "outputs": [
        {
          "output_type": "stream",
          "name": "stdout",
          "text": [
            "パトカー\n"
          ]
        }
      ]
    },
    {
      "cell_type": "code",
      "metadata": {
        "colab": {
          "base_uri": "https://localhost:8080/"
        },
        "id": "hjrXXMYXNYXD",
        "outputId": "ebc45625-fec1-41de-e3c7-258eba659897"
      },
      "source": [
        "# -------------\n",
        "# 02. 「パトカー」 + 「タクシー」 = 「パタトクカシー」\n",
        "# -------------\n",
        "\n",
        "# for 文を用いて一つずつ出力し結合する\n",
        "str1 = 'パトカー'\n",
        "str2 = 'タクシー'\n",
        "result = ''\n",
        "\n",
        "for i in range(len(str1)):\n",
        "  result += str1[i] + str2[i]\n",
        "print(result)\n",
        "\n",
        "# zip()関数を用いても可能 複数のリストやタプルなどの要素をまとめる関数\n",
        "result = ''\n",
        "for i, j in zip(str1, str2):\n",
        "  result +=  i + j\n",
        "print(result)"
      ],
      "execution_count": null,
      "outputs": [
        {
          "output_type": "stream",
          "name": "stdout",
          "text": [
            "パタトクカシーー\n",
            "パタトクカシーー\n"
          ]
        }
      ]
    },
    {
      "cell_type": "code",
      "metadata": {
        "colab": {
          "base_uri": "https://localhost:8080/"
        },
        "id": "SKyTFSxXQGRm",
        "outputId": "7b224307-2bbb-4957-95ac-1ae20aa938e1"
      },
      "source": [
        "# -------------\n",
        "# 03. 円周率\n",
        "# -------------\n",
        "str = 'Now I need a drink, alcoholic of course, after the heavy lectures involving quantum mechanics.'\n",
        "\n",
        "# , と . を除去  re.sub()メソッドを用いる\n",
        "import re\n",
        "str = re.sub(\"[.,]\", \"\", str)\n",
        "\n",
        "# スペースで区切る\n",
        "str1 = str.split()\n",
        "\n",
        "result = []\n",
        "for i in str1:\n",
        "  result.append(len(i))\n",
        "print(result)"
      ],
      "execution_count": 10,
      "outputs": [
        {
          "output_type": "stream",
          "name": "stdout",
          "text": [
            "[3, 1, 4, 1, 5, 9, 2, 6, 5, 3, 5, 8, 9, 7, 9]\n"
          ]
        }
      ]
    },
    {
      "cell_type": "code",
      "metadata": {
        "colab": {
          "base_uri": "https://localhost:8080/"
        },
        "id": "DBvkx6wAUdPH",
        "outputId": "3711e208-8545-4497-fe90-8d4b59e03966"
      },
      "source": [
        "# -------------\n",
        "# 04. 元素記号\n",
        "# -------------\n",
        "str = 'Hi He Lied Because Boron Could Not Oxidize Fluorine. New Nations Might Also Sign Peace Security Clause. Arthur King Can.'\n",
        "\n",
        "# 単語分割\n",
        "str1 = str.split()\n",
        "# 先頭1文字だけ取得する単語の番号\n",
        "one_char = [1, 5, 6, 7, 8, 9, 15, 16, 19]\n",
        "answer = {}\n",
        "\n",
        "# enumerate() 関数を使う　forループの中でリストやタプルなどの要素と同時にインデックス番号を取得可能\n",
        "for i, word in enumerate(str1): \n",
        "  # インデックス番号は0から始まるため +1 しなければならない\n",
        "  if i + 1 in one_char:     \n",
        "    answer[word[:1]] = i + 1\n",
        "  else :\n",
        "    answer[word[:2]] = i + 1\n",
        "print(answer)"
      ],
      "execution_count": 11,
      "outputs": [
        {
          "output_type": "stream",
          "name": "stdout",
          "text": [
            "{'H': 1, 'He': 2, 'Li': 3, 'Be': 4, 'B': 5, 'C': 6, 'N': 7, 'O': 8, 'F': 9, 'Ne': 10, 'Na': 11, 'Mi': 12, 'Al': 13, 'Si': 14, 'P': 15, 'S': 16, 'Cl': 17, 'Ar': 18, 'K': 19, 'Ca': 20}\n"
          ]
        }
      ]
    },
    {
      "cell_type": "code",
      "metadata": {
        "colab": {
          "base_uri": "https://localhost:8080/"
        },
        "id": "Ep37QzRmXxex",
        "outputId": "ba84a22e-c406-44be-8489-4ac56240c4f3"
      },
      "source": [
        "# -------------\n",
        "# 05. n_gram\n",
        "# -------------\n",
        "\n",
        "str = 'I am an NLPer'\n",
        "\n",
        "def n_gram(str, n):\n",
        "  # 1文字ずつずらしながらn文字分抜き出す　str[i:i+n]が出力部分\n",
        "  return [ str[i:i + n] for i in range(len(str) - n + 1)]\n",
        "\n",
        "# 文字bi_gramの出力\n",
        "print(n_gram(str, 2))\n",
        "\n",
        "# 単語bi_gramの出力\n",
        "str1 = str.split()\n",
        "print(n_gram(str1, 2))"
      ],
      "execution_count": null,
      "outputs": [
        {
          "output_type": "stream",
          "name": "stdout",
          "text": [
            "['I ', ' a', 'am', 'm ', ' a', 'an', 'n ', ' N', 'NL', 'LP', 'Pe', 'er']\n",
            "[['I', 'am'], ['am', 'an'], ['an', 'NLPer']]\n"
          ]
        }
      ]
    },
    {
      "cell_type": "code",
      "metadata": {
        "colab": {
          "base_uri": "https://localhost:8080/"
        },
        "id": "QOXX_YJkbZMd",
        "outputId": "a44f7ba4-079c-4972-b816-fe24f96d1c43"
      },
      "source": [
        "# -------------\n",
        "# 06. 集合\n",
        "# -------------\n",
        "str1 = 'paraparaparadise'\n",
        "str2 = 'paragraph'\n",
        "\n",
        "# 集合を表すデータ型であるset()を使う set()では重複する要素は取り除かれる {}で囲まれているのが集合\n",
        "# set()について　https://uxmilk.jp/14834 \n",
        "X = set(n_gram(str1, 2))\n",
        "Y = set(n_gram(str2, 2))\n",
        "\n",
        "print('X', X)\n",
        "print('Y', Y)\n",
        "\n",
        "# 和集合を求める\n",
        "print('和集合',  X | Y )\n",
        "\n",
        "# 積集合を求める\n",
        "print('積集合',  X & Y )\n",
        "\n",
        "# 差集合を求める\n",
        "print('差集合',  X - Y )\n",
        "a = 'se'\n",
        "print('Xにseが含まれるか', {'se'} <= X)\n",
        "print('Yにseが含まれるか', Y >= {'se'})"
      ],
      "execution_count": null,
      "outputs": [
        {
          "output_type": "stream",
          "name": "stdout",
          "text": [
            "X {'ra', 'ad', 'is', 'ap', 'se', 'ar', 'pa', 'di'}\n",
            "Y {'ra', 'ap', 'ag', 'ph', 'ar', 'pa', 'gr'}\n",
            "和集合 {'ra', 'ad', 'is', 'ap', 'se', 'ag', 'ph', 'ar', 'pa', 'di', 'gr'}\n",
            "積集合 {'ra', 'ar', 'ap', 'pa'}\n",
            "差集合 {'di', 'ad', 'is', 'se'}\n",
            "Xにseが含まれるか True\n",
            "Yにseが含まれるか False\n"
          ]
        }
      ]
    },
    {
      "cell_type": "code",
      "metadata": {
        "colab": {
          "base_uri": "https://localhost:8080/"
        },
        "id": "x09MU7Nffldq",
        "outputId": "fd197f31-487c-45cc-bf8a-8db2c81f9dd1"
      },
      "source": [
        "# -------------\n",
        "# 07. テンプレートによる文生成\n",
        "# -------------\n",
        "def temp(x, y, z):\n",
        "  print(f'{x}時のとき{y}は{z}')\n",
        "\n",
        "temp(12, '気温', 22.4)"
      ],
      "execution_count": null,
      "outputs": [
        {
          "output_type": "stream",
          "name": "stdout",
          "text": [
            "12時のとき気温は22.4\n"
          ]
        }
      ]
    },
    {
      "cell_type": "code",
      "metadata": {
        "colab": {
          "base_uri": "https://localhost:8080/"
        },
        "id": "FlkPjcH6hrMi",
        "outputId": "dc80ff79-2dc2-40d6-dc0a-69816b12c961"
      },
      "source": [
        "# -------------\n",
        "# 08. 暗号文\n",
        "# -------------\n",
        "# join関数とは文字列や数字などを新しい文字列として連結させる関数\n",
        "# chr() Unicodeコードポイントの \"文字\" を取得\n",
        "# ord() ある文字の \"Unicodeコードポイント\" を取得\n",
        "def cipher(str):\n",
        "  answer = []\n",
        "  for x in str:\n",
        "    if x.islower():\n",
        "      answer.append(chr(219 - ord(x)))\n",
        "    else:\n",
        "      answer.append(x)\n",
        "  return ''.join(answer)  # joinで結合し文字列に変換\n",
        "\n",
        "str = 'i have a pen'\n",
        "str = cipher(str)\n",
        "print('暗号化', str)\n",
        "print('複合化', cipher(str))"
      ],
      "execution_count": null,
      "outputs": [
        {
          "output_type": "stream",
          "name": "stdout",
          "text": [
            "暗号化 r szev z kvm\n",
            "複合化 i have a pen\n"
          ]
        }
      ]
    },
    {
      "cell_type": "code",
      "metadata": {
        "colab": {
          "base_uri": "https://localhost:8080/"
        },
        "id": "DLODYmQDlKJu",
        "outputId": "c510abed-c1cc-419c-9286-97fbab2f83b5"
      },
      "source": [
        "# -------------\n",
        "# 09. Typoglycemia\n",
        "# -------------\n",
        "import random\n",
        "\n",
        "def Typoglycemia(str):\n",
        "  result = []\n",
        "  for word in str.split():\n",
        "    if len(word) > 4 :\n",
        "      # randomモジュールの関数sample()を使うことで、元のリストは変更せず、ランダムに並び替えられた新たなリストを作成\n",
        "      # 第一引数にリスト、第二引数に取得したい要素の個数を指定する　ここでは最初と最後を除いているため全体の-2個\n",
        "      word = word[:1] + ''.join(random.sample(word[1:-1], len(word) -2 )) + word[-1:]\n",
        "    result.append(word)\n",
        "  return ' '.join(result)\n",
        "\n",
        "words = \"I couldn’t believe that I could actually understand what I was reading : the phenomenal power of the human mind .\"\n",
        "print(Typoglycemia(words))\n"
      ],
      "execution_count": null,
      "outputs": [
        {
          "output_type": "stream",
          "name": "stdout",
          "text": [
            "I cuo’dnlt beileve that I could allacuty undsratend what I was rnadeig : the paenmhneol poewr of the huamn mind .\n"
          ]
        }
      ]
    }
  ]
}