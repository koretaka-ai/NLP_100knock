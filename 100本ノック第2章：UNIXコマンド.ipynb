{
  "nbformat": 4,
  "nbformat_minor": 0,
  "metadata": {
    "colab": {
      "name": "100本ノック第2章：UNIXコマンド.ipynb",
      "provenance": [],
      "collapsed_sections": [],
      "authorship_tag": "ABX9TyOL56jX7beRnPDV2pSuW3wA"
    },
    "kernelspec": {
      "name": "python3",
      "display_name": "Python 3"
    },
    "language_info": {
      "name": "python"
    }
  },
  "cells": [
    {
      "cell_type": "code",
      "metadata": {
        "id": "MpbucDAko75f"
      },
      "source": [
        "# Fileのダウンロード\n",
        "import os\n",
        "if os.path.exists(\"/content/popular-names.txt\")==True:\n",
        "    ! rm \"/content/popular-names.txt\"\n",
        "!wget --quiet https://nlp100.github.io/data/popular-names.txt\n",
        "\n",
        "# Pandasのインストール\n",
        "! pip --quiet install pandas\n",
        "import pandas as pd"
      ],
      "execution_count": null,
      "outputs": []
    },
    {
      "cell_type": "code",
      "metadata": {
        "id": "VWuQe5OgqCzV",
        "colab": {
          "base_uri": "https://localhost:8080/"
        },
        "outputId": "8022009d-4393-44e9-e710-4bbd2b13652f"
      },
      "source": [
        "# -------------\n",
        "# 10. 行数のカウント\n",
        "# -------------\n",
        "def main():\n",
        "    data = pd.read_csv(\"/content/popular-names.txt\", header=None, sep='\\t')\n",
        "    print(len(data.index))\n",
        "main()\n",
        "\n",
        "# wcコマンドで確認  オプションについて　-l：開業の数を表示、-c：バイト数を表示、-m：文字数を表示、-w：単語数を表示、-L：最も長い行の長さを表示\n",
        "! wc -l \"/content/popular-names.txt\""
      ],
      "execution_count": null,
      "outputs": [
        {
          "output_type": "stream",
          "name": "stdout",
          "text": [
            "2780\n",
            "2780 /content/popular-names.txt\n"
          ]
        }
      ]
    },
    {
      "cell_type": "code",
      "metadata": {
        "id": "KbxK7kQ7oE7o",
        "colab": {
          "base_uri": "https://localhost:8080/"
        },
        "outputId": "653e200c-0aa4-4a11-a5a7-f97bc5a415d8"
      },
      "source": [
        "# -------------\n",
        "# 11. タブをスペースに置換\n",
        "# -------------\n",
        "def main():\n",
        "   data = pd.read_csv(\"/content/popular-names.txt\", header=None, sep='\\t')\n",
        "   data.to_csv(\"/content/result.txt\", index=False, header=None, sep=' ')\n",
        "main()\n",
        "\n",
        "! head -n 5 /content/result.txt\n",
        "print(\"\\n\")\n",
        "\n",
        "# sedコマンドによる確認　\n",
        "! sed 's/\\t/ /g' /content/popular-names.txt | head -n 5"
      ],
      "execution_count": null,
      "outputs": [
        {
          "output_type": "stream",
          "name": "stdout",
          "text": [
            "Mary F 7065 1880\n",
            "Anna F 2604 1880\n",
            "Emma F 2003 1880\n",
            "Elizabeth F 1939 1880\n",
            "Minnie F 1746 1880\n",
            "\n",
            "\n",
            "Mary F 7065 1880\n",
            "Anna F 2604 1880\n",
            "Emma F 2003 1880\n",
            "Elizabeth F 1939 1880\n",
            "Minnie F 1746 1880\n"
          ]
        }
      ]
    },
    {
      "cell_type": "code",
      "metadata": {
        "id": "2YhwESE8oFEN",
        "colab": {
          "base_uri": "https://localhost:8080/"
        },
        "outputId": "85d7d965-90f9-4f64-950a-b25a6945ea5e"
      },
      "source": [
        "# -------------\n",
        "# 12. 1列目をcol1.txtに、2列目をcol2.txtに保存\n",
        "# -------------\n",
        "def main():\n",
        "    data = pd.read_csv(\"/content/popular-names.txt\", header=None, sep='\\t')\n",
        "    col1 = data[0]\n",
        "    col2 = data[1]\n",
        "    col1.to_csv(\"col1.txt\", index=False, header=None)\n",
        "    col2.to_csv(\"col2.txt\", index=False, header=None)\n",
        "main()\n",
        "\n",
        "# cutコマンドによる確認  1列目と2列目の表示\n",
        "! head -n 5 /content/col1.txt\n",
        "! cut -d $'\\t' -f 1 /content/col1.txt | head -n 5\n",
        "print(\"\\n\")\n",
        "! cut -d $'\\t' -f 2 /content/col2.txt | head -n 5\n",
        "! head -n 5 /content/col2.txt"
      ],
      "execution_count": null,
      "outputs": [
        {
          "output_type": "stream",
          "name": "stdout",
          "text": [
            "Mary\n",
            "Anna\n",
            "Emma\n",
            "Elizabeth\n",
            "Minnie\n",
            "Mary\n",
            "Anna\n",
            "Emma\n",
            "Elizabeth\n",
            "Minnie\n",
            "\n",
            "\n",
            "F\n",
            "F\n",
            "F\n",
            "F\n",
            "F\n",
            "F\n",
            "F\n",
            "F\n",
            "F\n",
            "F\n"
          ]
        }
      ]
    },
    {
      "cell_type": "code",
      "metadata": {
        "id": "MClf2nGNoFlS",
        "colab": {
          "base_uri": "https://localhost:8080/"
        },
        "outputId": "32485d64-af25-4351-ca4a-87b0c5b1c780"
      },
      "source": [
        "# -------------\n",
        "# 13. col1.txtとcol2.txtをマージ\n",
        "# -------------\n",
        "def main():\n",
        "    col1 = pd.read_csv(\"/content/col1.txt\", header=None)\n",
        "    col2 = pd.read_csv(\"/content/col2.txt\", header=None)\n",
        "    merge = pd.concat([col1, col2], axis=1)\n",
        "    merge.to_csv(\"merge.txt\", header=None, sep=\"\\t\", index=None)\n",
        "main()\n",
        "\n",
        "# 確認\n",
        "! head -n 5 merge.txt\n",
        "print(\"\\n\")\n",
        "!paste ./col1.txt ./col2.txt | head -n 5"
      ],
      "execution_count": null,
      "outputs": [
        {
          "output_type": "stream",
          "name": "stdout",
          "text": [
            "Mary\tF\n",
            "Anna\tF\n",
            "Emma\tF\n",
            "Elizabeth\tF\n",
            "Minnie\tF\n",
            "\n",
            "\n",
            "Mary\tF\n",
            "Anna\tF\n",
            "Emma\tF\n",
            "Elizabeth\tF\n",
            "Minnie\tF\n"
          ]
        }
      ]
    },
    {
      "cell_type": "code",
      "metadata": {
        "id": "u5sxWe3loFto",
        "colab": {
          "base_uri": "https://localhost:8080/"
        },
        "outputId": "27e76efe-d56f-484c-e309-479e384d393f"
      },
      "source": [
        "# -------------\n",
        "# 14. 先頭からN行を出力\n",
        "# -------------\n",
        "def main(x):\n",
        "    data = pd.read_csv(\"/content/popular-names.txt\", header=None, sep=\"\\t\") \n",
        "    print(data.head(x))\n",
        "main(5)\n",
        "\n",
        "# headで確認\n",
        "print(\"\\n\")\n",
        "! head -n 5 /content/popular-names.txt"
      ],
      "execution_count": null,
      "outputs": [
        {
          "output_type": "stream",
          "name": "stdout",
          "text": [
            "           0  1     2     3\n",
            "0       Mary  F  7065  1880\n",
            "1       Anna  F  2604  1880\n",
            "2       Emma  F  2003  1880\n",
            "3  Elizabeth  F  1939  1880\n",
            "4     Minnie  F  1746  1880\n",
            "\n",
            "\n",
            "Mary\tF\t7065\t1880\n",
            "Anna\tF\t2604\t1880\n",
            "Emma\tF\t2003\t1880\n",
            "Elizabeth\tF\t1939\t1880\n",
            "Minnie\tF\t1746\t1880\n"
          ]
        }
      ]
    },
    {
      "cell_type": "code",
      "metadata": {
        "id": "5DQS5mtEoF0V",
        "colab": {
          "base_uri": "https://localhost:8080/"
        },
        "outputId": "aa9feffe-a5be-40b7-c147-a3c7be423b29"
      },
      "source": [
        "# -------------\n",
        "# 15. 末尾のN行を出力\n",
        "# -------------\n",
        "def main(x):\n",
        "    data = pd.read_csv(\"/content/popular-names.txt\", header=None, sep=\"\\t\")\n",
        "    print(data.tail(x))\n",
        "main(5)\n",
        "\n",
        "# tailで確認\n",
        "print(\"\\n\")\n",
        "! tail -n 5 /content/popular-names.txt"
      ],
      "execution_count": null,
      "outputs": [
        {
          "output_type": "stream",
          "name": "stdout",
          "text": [
            "             0  1      2     3\n",
            "2775  Benjamin  M  13381  2018\n",
            "2776    Elijah  M  12886  2018\n",
            "2777     Lucas  M  12585  2018\n",
            "2778     Mason  M  12435  2018\n",
            "2779     Logan  M  12352  2018\n",
            "\n",
            "\n",
            "Benjamin\tM\t13381\t2018\n",
            "Elijah\tM\t12886\t2018\n",
            "Lucas\tM\t12585\t2018\n",
            "Mason\tM\t12435\t2018\n",
            "Logan\tM\t12352\t2018\n"
          ]
        }
      ]
    },
    {
      "cell_type": "code",
      "metadata": {
        "id": "t8lFTadXoF5l"
      },
      "source": [
        "# -------------\n",
        "# 16. ファイルをN分割する\n",
        "# -------------\n",
        "def main(x):\n",
        "    data = pd.read_csv(\"/content/popular-names.txt\", header=None, sep=\"\\t\")\n",
        "    for i in range(x):\n",
        "        count = -(-len(data) // x )   # 切り上げ\n",
        "        data.loc[count*i :count*(i+1) - 1].to_csv(f'sp_v1_{i}', sep='\\t', index=False, header=None)\n",
        "main(3)\n",
        "\n",
        "\n",
        "# 確認\n",
        "data = pd.read_csv(\"/content/popular-names.txt\", header=None, sep=\"\\t\")\n",
        "count = -(-len(data) // 3 )\n",
        "!split -l $count -d popular-names.txt sp_v2_"
      ],
      "execution_count": null,
      "outputs": []
    },
    {
      "cell_type": "code",
      "metadata": {
        "id": "pUIfDvFuoF_S",
        "colab": {
          "base_uri": "https://localhost:8080/"
        },
        "outputId": "64154a4f-9a83-4460-80ed-5ccae56fefa6"
      },
      "source": [
        "# -------------\n",
        "# 17. 1列目の文字列の異なり\n",
        "# -------------\n",
        "def main():\n",
        "    data = pd.read_csv(\"/content/popular-names.txt\", header=None, sep=\"\\t\")\n",
        "    result = data[0]\n",
        "    count = len(result.unique())\n",
        "    print(count)\n",
        "main()\n",
        "\n",
        "# 確認 \n",
        "! cut -f 1 /content/popular-names.txt | sort | uniq | wc -l"
      ],
      "execution_count": null,
      "outputs": [
        {
          "output_type": "stream",
          "name": "stdout",
          "text": [
            "136\n",
            "136\n"
          ]
        }
      ]
    },
    {
      "cell_type": "code",
      "metadata": {
        "id": "rFGcRkPCoGEs",
        "colab": {
          "base_uri": "https://localhost:8080/"
        },
        "outputId": "b13c416d-8281-4086-e8cb-f870016af741"
      },
      "source": [
        "# -------------\n",
        "# 18. 各行を3コラム目の数値の降順にソート\n",
        "# -------------\n",
        "def main():\n",
        "    data = pd.read_csv(\"/content/popular-names.txt\", header=None, sep=\"\\t\")\n",
        "    data = data.sort_values(2, ascending=False)\n",
        "    data.to_csv(\"result.txt\", header=None, index=False, sep=\"\\t\")\n",
        "main()\n",
        "\n",
        "# 確認\n",
        "! head -n 5 result.txt\n",
        "print(\"\\n\")\n",
        "! cat popular-names.txt | sort -rnk 3 | head -n 5"
      ],
      "execution_count": null,
      "outputs": [
        {
          "output_type": "stream",
          "name": "stdout",
          "text": [
            "Linda\tF\t99689\t1947\n",
            "Linda\tF\t96211\t1948\n",
            "James\tM\t94757\t1947\n",
            "Michael\tM\t92704\t1957\n",
            "Robert\tM\t91640\t1947\n",
            "\n",
            "\n",
            "Linda\tF\t99689\t1947\n",
            "Linda\tF\t96211\t1948\n",
            "James\tM\t94757\t1947\n",
            "Michael\tM\t92704\t1957\n",
            "Robert\tM\t91640\t1947\n"
          ]
        }
      ]
    },
    {
      "cell_type": "code",
      "metadata": {
        "id": "jJw_2tP7oGRV",
        "colab": {
          "base_uri": "https://localhost:8080/"
        },
        "outputId": "58ad64b9-ef96-47a9-87d4-5dd86e4a458c"
      },
      "source": [
        "# -------------\n",
        "# 19. 各行の1コラム目の文字列の出現頻度を求め、出現頻度の高い順に並べる\n",
        "# -------------\n",
        "def main():\n",
        "    data = pd.read_csv(\"/content/popular-names.txt\", header=None, sep=\"\\t\")\n",
        "    data = data[0].value_counts()\n",
        "    print(data)\n",
        "main()\n",
        "! cut -f 1 /content/popular-names.txt | sort | uniq -c | sort -rn | head -n 5"
      ],
      "execution_count": null,
      "outputs": [
        {
          "output_type": "stream",
          "name": "stdout",
          "text": [
            "James      118\n",
            "William    111\n",
            "Robert     108\n",
            "John       108\n",
            "Mary        92\n",
            "          ... \n",
            "Tracy        1\n",
            "Lucas        1\n",
            "Walter       1\n",
            "Kelly        1\n",
            "Pamela       1\n",
            "Name: 0, Length: 136, dtype: int64\n",
            "    118 James\n",
            "    111 William\n",
            "    108 Robert\n",
            "    108 John\n",
            "     92 Mary\n"
          ]
        }
      ]
    }
  ]
}